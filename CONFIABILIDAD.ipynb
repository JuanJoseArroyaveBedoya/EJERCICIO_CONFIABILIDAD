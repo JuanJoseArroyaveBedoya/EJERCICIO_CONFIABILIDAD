{
  "nbformat": 4,
  "nbformat_minor": 0,
  "metadata": {
    "colab": {
      "private_outputs": true,
      "provenance": [],
      "authorship_tag": "ABX9TyMnZRR1Qddn3xHgR2+sOFfD",
      "include_colab_link": true
    },
    "kernelspec": {
      "name": "python3",
      "display_name": "Python 3"
    },
    "language_info": {
      "name": "python"
    }
  },
  "cells": [
    {
      "cell_type": "markdown",
      "metadata": {
        "id": "view-in-github",
        "colab_type": "text"
      },
      "source": [
        "<a href=\"https://colab.research.google.com/github/JuanJoseArroyaveBedoya/EJERCICIO_CONFIABILIDAD/blob/main/CONFIABILIDAD.ipynb\" target=\"_parent\"><img src=\"https://colab.research.google.com/assets/colab-badge.svg\" alt=\"Open In Colab\"/></a>"
      ]
    },
    {
      "cell_type": "markdown",
      "source": [
        "***EJERCICIO 29 FEBRERO DE 2024***\n",
        "\n",
        "\n",
        "El siguiente cuadro muestra l aantiguedad de 40 trabajadores en una planta:\n",
        "\n",
        "![image.png](data:image/png;base64,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)"
      ],
      "metadata": {
        "id": "yPSQrkaWVLmt"
      }
    },
    {
      "cell_type": "markdown",
      "source": [
        "¿Cual es la antiguedad promedio?"
      ],
      "metadata": {
        "id": "ACxcxuFBWVE7"
      }
    },
    {
      "cell_type": "code",
      "source": [
        "Antiguedad = [1, 2, 3, 4, 5, 6, 8, 9, 11, 15, 18, 20]\n",
        "Numero = [2, 2, 4, 6, 6, 10, 3, 2, 1, 2, 1, 1]\n",
        "\n",
        "total_ponderado = 0\n",
        "total_numero = sum(Numero)\n",
        "\n",
        "for i in range(len(Antiguedad)):\n",
        "    total_ponderado += Antiguedad[i] * Numero[i]\n",
        "\n",
        "promedio_ponderado = total_ponderado / total_numero\n",
        "print(\"El promedio ponderado es:\", round(promedio_ponderado,1))\n",
        "\n"
      ],
      "metadata": {
        "id": "aY6vcDM-Xgeu"
      },
      "execution_count": null,
      "outputs": []
    },
    {
      "cell_type": "markdown",
      "source": [
        "¿Cual es la desviacion estandar?"
      ],
      "metadata": {
        "id": "u9LKypW4WPJt"
      }
    },
    {
      "cell_type": "code",
      "source": [
        "import statistics\n",
        "\n",
        "Antiguedad = [1, 2, 3, 4, 5, 6, 8, 9, 11, 15, 18, 20]\n",
        "Numero = [2, 2, 4, 6, 6, 10, 3, 2, 1, 2, 1, 1]\n",
        "\n",
        "total_ponderado = sum(a * n for a, n in zip(Antiguedad, Numero))\n",
        "total_numero = sum(Numero)\n",
        "promedio_ponderado = total_ponderado / total_numero\n",
        "\n",
        "varianza_ponderada = sum(n * ((a - promedio_ponderado) ** 2) for a, n in zip(Antiguedad, Numero)) / total_numero\n",
        "\n",
        "desviacion_estandar = varianza_ponderada ** 0.5\n",
        "\n",
        "print(\"La desviación estándar es:\",round( desviacion_estandar,1))\n"
      ],
      "metadata": {
        "id": "_9QdWiVoZkBx"
      },
      "execution_count": null,
      "outputs": []
    },
    {
      "cell_type": "markdown",
      "source": [],
      "metadata": {
        "id": "MMNnTJY1aM_W"
      }
    },
    {
      "cell_type": "code",
      "source": [
        "import numpy as np\n",
        "import matplotlib.pyplot as plt\n",
        "import statistics\n",
        "\n",
        "# Datos\n",
        "EDAD = [21, 21, 21, 21, 20, 24, 22, 20, 23, 20, 19, 24, 22, 23, 22, 25, 22, 20, 21, 22, 24, 23, 21, 23, 23, 22, 23, 22, 21, 22, 22]\n",
        "Semestre = [11, 10, 8, 8, 5, 10, 9, 8, 6, 5, 5, 9, 8, 12, 9, 10, 6, 6, 10, 7, 9, 5, 5, 9, 7, 7, 6, 9, 8, 8, 8]\n",
        "\n",
        "# Histograma de frecuencia\n",
        "plt.hist(EDAD, bins=range(min(EDAD), max(EDAD) + 1), edgecolor='black', alpha=0.7, label='EDAD')\n",
        "plt.xlabel('EDAD')\n",
        "plt.ylabel('Frecuencia')\n",
        "plt.title('Histograma de Frecuencia')\n",
        "plt.legend()\n",
        "plt.show()\n",
        "\n",
        "# Graficar frecuencia relativa\n",
        "frecuencia_absoluta = np.histogram(EDAD, bins=range(min(EDAD), max(EDAD) + 2))[0]\n",
        "frecuencia_relativa = frecuencia_absoluta / len(EDAD)\n",
        "plt.bar(range(min(EDAD), max(EDAD) + 1), frecuencia_relativa, width=0.8, align='center', alpha=0.7, label='Frecuencia Relativa')\n",
        "plt.xlabel('EDAD')\n",
        "plt.ylabel('Frecuencia Relativa')\n",
        "plt.title('Histograma de Frecuencia Relativa')\n",
        "plt.legend()\n",
        "plt.show()\n",
        "\n",
        "# Graficar frecuencia relativa acumulada\n",
        "frecuencia_absoluta = np.histogram(EDAD, bins=range(min(EDAD), max(EDAD) + 2))[0]\n",
        "frecuencia_relativa = frecuencia_absoluta / len(EDAD)\n",
        "frecuencia_relativa_acumulada = np.cumsum(frecuencia_relativa)\n",
        "plt.plot(range(min(EDAD), max(EDAD) + 1), frecuencia_relativa_acumulada, marker='o', linestyle='-', color='b', label='Frecuencia Relativa Acumulada')\n",
        "plt.xlabel('EDAD')\n",
        "plt.ylabel('Frecuencia Relativa Acumulada')\n",
        "plt.title('Gráfico de Frecuencia Relativa Acumulada')\n",
        "plt.legend()\n",
        "plt.grid(True)\n",
        "plt.show()\n",
        "\n",
        "# Calcular estadísticas\n",
        "media = np.mean(EDAD)\n",
        "mediana = np.median(EDAD)\n",
        "moda = statistics.mode(EDAD)\n",
        "desviacion_estandar = np.std(EDAD)\n",
        "varianza = np.var(EDAD)\n",
        "\n",
        "# Mostrar estadísticas\n",
        "print(\"Media:\", round(media,1))\n",
        "print(\"Mediana:\", round(mediana,1))\n",
        "print(\"Moda:\", moda)\n",
        "print(\"Desviación estándar:\",round( desviacion_estandar,1))\n",
        "print(\"Varianza:\", round(varianza,1))\n",
        "\n"
      ],
      "metadata": {
        "id": "PWSdtPHseW9U"
      },
      "execution_count": null,
      "outputs": []
    },
    {
      "cell_type": "code",
      "source": [
        "import numpy as np\n",
        "import matplotlib.pyplot as plt\n",
        "import statistics\n",
        "\n",
        "# Datos\n",
        "Semestre = [11, 10, 8, 8, 5, 10, 9, 8, 6, 5, 5, 9, 8, 12, 9, 10, 6, 6, 10, 7, 9, 5, 5, 9, 7, 7, 6, 9, 8, 8, 8]\n",
        "\n",
        "# Histograma de frecuencia\n",
        "plt.hist(Semestre, bins=range(min(Semestre), max(Semestre) + 1), edgecolor='black', alpha=0.7, label='Semestre')\n",
        "plt.xlabel('Semestre')\n",
        "plt.ylabel('Frecuencia')\n",
        "plt.title('Histograma de Frecuencia')\n",
        "plt.legend()\n",
        "plt.show()\n",
        "\n",
        "# Calcular frecuencia relativa\n",
        "frecuencia_absoluta_semestre = np.histogram(Semestre, bins=range(min(Semestre), max(Semestre) + 2))[0]\n",
        "frecuencia_relativa_semestre = frecuencia_absoluta_semestre / len(Semestre)\n",
        "\n",
        "# Graficar frecuencia relativa\n",
        "plt.bar(range(min(Semestre), max(Semestre) + 1), frecuencia_relativa_semestre, width=0.8, align='center', alpha=0.7, label='Frecuencia Relativa')\n",
        "plt.xlabel('Semestre')\n",
        "plt.ylabel('Frecuencia Relativa')\n",
        "plt.title('Histograma de Frecuencia Relativa')\n",
        "plt.legend()\n",
        "plt.show()\n",
        "\n",
        "# Calcular frecuencia relativa acumulada\n",
        "frecuencia_relativa_acumulada_semestre = np.cumsum(frecuencia_relativa_semestre)\n",
        "\n",
        "# Graficar frecuencia relativa acumulada\n",
        "plt.plot(range(min(Semestre), max(Semestre) + 1), frecuencia_relativa_acumulada_semestre, marker='o', linestyle='-', color='b', label='Frecuencia Relativa Acumulada')\n",
        "plt.xlabel('Semestre')\n",
        "plt.ylabel('Frecuencia Relativa Acumulada')\n",
        "plt.title('Gráfico de Frecuencia Relativa Acumulada')\n",
        "plt.legend()\n",
        "plt.grid(True)\n",
        "plt.show()\n",
        "\n",
        "# Calcular estadísticas\n",
        "media_semestre = np.mean(Semestre)\n",
        "mediana_semestre = np.median(Semestre)\n",
        "moda_semestre = statistics.mode(Semestre)\n",
        "desviacion_estandar_semestre = np.std(Semestre)\n",
        "varianza_semestre = np.var(Semestre)\n",
        "\n",
        "# Mostrar estadísticas\n",
        "print(\"Media del Semestre:\", round(media_semestre,1))\n",
        "print(\"Mediana del Semestre:\", round(mediana_semestre,1))\n",
        "print(\"Moda del Semestre:\", moda_semestre)\n",
        "print(\"Desviación estándar del Semestre:\", round(desviacion_estandar_semestre,1))\n",
        "print(\"Varianza del Semestre:\", round(varianza_semestre,1))\n"
      ],
      "metadata": {
        "id": "njzZMhoOhKeH"
      },
      "execution_count": null,
      "outputs": []
    }
  ]
}